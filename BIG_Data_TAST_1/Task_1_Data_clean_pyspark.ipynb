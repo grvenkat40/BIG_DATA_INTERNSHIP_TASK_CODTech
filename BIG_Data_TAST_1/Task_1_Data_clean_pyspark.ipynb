{
 "cells": [
  {
   "cell_type": "markdown",
   "id": "e91b5d57-b002-4988-9c78-36ac10ffe03e",
   "metadata": {},
   "source": [
    "## Data Cleaning by Using Pyspark"
   ]
  },
  {
   "cell_type": "code",
   "execution_count": 1,
   "id": "8a575f26-268c-464f-a757-4c0f00c09c8d",
   "metadata": {},
   "outputs": [],
   "source": [
    "from pyspark.sql import SparkSession\n",
    "from pyspark.sql.functions import *\n",
    "import pandas as pd"
   ]
  },
  {
   "cell_type": "markdown",
   "id": "f435f0be-eae1-4fa8-8277-055792d5483d",
   "metadata": {},
   "source": [
    "### Spark Session creation"
   ]
  },
  {
   "cell_type": "code",
   "execution_count": 2,
   "id": "91c2f6db-64a6-4c32-b4c3-27e11cd99bfc",
   "metadata": {},
   "outputs": [
    {
     "name": "stdout",
     "output_type": "stream",
     "text": [
      "Spark Session created\n"
     ]
    }
   ],
   "source": [
    "from pyspark.sql import SparkSession\n",
    "\n",
    "spark = SparkSession.builder \\\n",
    "    .appName(\"Spark Data cleaning\") \\\n",
    "    .master(\"local[*]\") \\\n",
    "    .getOrCreate()\n",
    "\n",
    "print(\"Spark Session created\")"
   ]
  },
  {
   "cell_type": "markdown",
   "id": "cff79daf-9553-453a-8d45-0a4992b70a7b",
   "metadata": {},
   "source": [
    "### Data path"
   ]
  },
  {
   "cell_type": "code",
   "execution_count": 274,
   "id": "d92eed36-be8e-4f55-8855-e8b9dc84b796",
   "metadata": {},
   "outputs": [],
   "source": [
    "data1=\"D:/OneDrive/Venkat.My_projects/BIG_Data_TAST_1/Finance_Input_Pyspark/users_data.csv\"\n",
    "data2=\"D:/OneDrive/Venkat.My_projects/BIG_Data_TAST_1/Finance_Input_Pyspark/cards_data.csv\"\n",
    "# data3=\"C:/Users/Admin/Downloads/finance data for pyspark/transactions_data.csv\""
   ]
  },
  {
   "cell_type": "markdown",
   "id": "62cefd85-5625-4e48-96fc-a0013b5604c3",
   "metadata": {},
   "source": [
    "### Data 1 Cleaning"
   ]
  },
  {
   "cell_type": "code",
   "execution_count": 276,
   "id": "12dff46a-c7b2-412e-814d-c1fc2287f237",
   "metadata": {},
   "outputs": [
    {
     "data": {
      "text/html": [
       "<div>\n",
       "<style scoped>\n",
       "    .dataframe tbody tr th:only-of-type {\n",
       "        vertical-align: middle;\n",
       "    }\n",
       "\n",
       "    .dataframe tbody tr th {\n",
       "        vertical-align: top;\n",
       "    }\n",
       "\n",
       "    .dataframe thead th {\n",
       "        text-align: right;\n",
       "    }\n",
       "</style>\n",
       "<table border=\"1\" class=\"dataframe\">\n",
       "  <thead>\n",
       "    <tr style=\"text-align: right;\">\n",
       "      <th></th>\n",
       "      <th>id</th>\n",
       "      <th>current_age</th>\n",
       "      <th>retirement_age</th>\n",
       "      <th>birth_year</th>\n",
       "      <th>birth_month</th>\n",
       "      <th>gender</th>\n",
       "      <th>address</th>\n",
       "      <th>latitude</th>\n",
       "      <th>longitude</th>\n",
       "      <th>per_capita_income</th>\n",
       "      <th>yearly_income</th>\n",
       "      <th>total_debt</th>\n",
       "      <th>credit_score</th>\n",
       "      <th>num_credit_cards</th>\n",
       "    </tr>\n",
       "  </thead>\n",
       "  <tbody>\n",
       "    <tr>\n",
       "      <th>0</th>\n",
       "      <td>825</td>\n",
       "      <td>53</td>\n",
       "      <td>66</td>\n",
       "      <td>1966</td>\n",
       "      <td>11</td>\n",
       "      <td>Female</td>\n",
       "      <td>462 Rose Lane</td>\n",
       "      <td>34.15</td>\n",
       "      <td>-117.76</td>\n",
       "      <td>$29278</td>\n",
       "      <td>$59696</td>\n",
       "      <td>$127613</td>\n",
       "      <td>787</td>\n",
       "      <td>5</td>\n",
       "    </tr>\n",
       "    <tr>\n",
       "      <th>1</th>\n",
       "      <td>1746</td>\n",
       "      <td>53</td>\n",
       "      <td>68</td>\n",
       "      <td>1966</td>\n",
       "      <td>12</td>\n",
       "      <td>Female</td>\n",
       "      <td>3606 Federal Boulevard</td>\n",
       "      <td>40.76</td>\n",
       "      <td>-73.74</td>\n",
       "      <td>$37891</td>\n",
       "      <td>$77254</td>\n",
       "      <td>$191349</td>\n",
       "      <td>701</td>\n",
       "      <td>5</td>\n",
       "    </tr>\n",
       "    <tr>\n",
       "      <th>2</th>\n",
       "      <td>1718</td>\n",
       "      <td>81</td>\n",
       "      <td>67</td>\n",
       "      <td>1938</td>\n",
       "      <td>11</td>\n",
       "      <td>Female</td>\n",
       "      <td>766 Third Drive</td>\n",
       "      <td>34.02</td>\n",
       "      <td>-117.89</td>\n",
       "      <td>$22681</td>\n",
       "      <td>$33483</td>\n",
       "      <td>$196</td>\n",
       "      <td>698</td>\n",
       "      <td>5</td>\n",
       "    </tr>\n",
       "    <tr>\n",
       "      <th>3</th>\n",
       "      <td>708</td>\n",
       "      <td>63</td>\n",
       "      <td>63</td>\n",
       "      <td>1957</td>\n",
       "      <td>1</td>\n",
       "      <td>Female</td>\n",
       "      <td>3 Madison Street</td>\n",
       "      <td>40.71</td>\n",
       "      <td>-73.99</td>\n",
       "      <td>$163145</td>\n",
       "      <td>$249925</td>\n",
       "      <td>$202328</td>\n",
       "      <td>722</td>\n",
       "      <td>4</td>\n",
       "    </tr>\n",
       "    <tr>\n",
       "      <th>4</th>\n",
       "      <td>1164</td>\n",
       "      <td>43</td>\n",
       "      <td>70</td>\n",
       "      <td>1976</td>\n",
       "      <td>9</td>\n",
       "      <td>Male</td>\n",
       "      <td>9620 Valley Stream Drive</td>\n",
       "      <td>37.76</td>\n",
       "      <td>-122.44</td>\n",
       "      <td>$53797</td>\n",
       "      <td>$109687</td>\n",
       "      <td>$183855</td>\n",
       "      <td>675</td>\n",
       "      <td>1</td>\n",
       "    </tr>\n",
       "    <tr>\n",
       "      <th>5</th>\n",
       "      <td>68</td>\n",
       "      <td>42</td>\n",
       "      <td>70</td>\n",
       "      <td>1977</td>\n",
       "      <td>10</td>\n",
       "      <td>Male</td>\n",
       "      <td>58 Birch Lane</td>\n",
       "      <td>41.55</td>\n",
       "      <td>-90.60</td>\n",
       "      <td>$20599</td>\n",
       "      <td>$41997</td>\n",
       "      <td>$0</td>\n",
       "      <td>704</td>\n",
       "      <td>3</td>\n",
       "    </tr>\n",
       "    <tr>\n",
       "      <th>6</th>\n",
       "      <td>1075</td>\n",
       "      <td>36</td>\n",
       "      <td>67</td>\n",
       "      <td>1983</td>\n",
       "      <td>12</td>\n",
       "      <td>Female</td>\n",
       "      <td>5695 Fifth Street</td>\n",
       "      <td>38.22</td>\n",
       "      <td>-85.74</td>\n",
       "      <td>$25258</td>\n",
       "      <td>$51500</td>\n",
       "      <td>$102286</td>\n",
       "      <td>672</td>\n",
       "      <td>3</td>\n",
       "    </tr>\n",
       "    <tr>\n",
       "      <th>7</th>\n",
       "      <td>1711</td>\n",
       "      <td>26</td>\n",
       "      <td>67</td>\n",
       "      <td>1993</td>\n",
       "      <td>12</td>\n",
       "      <td>Male</td>\n",
       "      <td>1941 Ninth Street</td>\n",
       "      <td>45.51</td>\n",
       "      <td>-122.64</td>\n",
       "      <td>$26790</td>\n",
       "      <td>$54623</td>\n",
       "      <td>$114711</td>\n",
       "      <td>728</td>\n",
       "      <td>1</td>\n",
       "    </tr>\n",
       "    <tr>\n",
       "      <th>8</th>\n",
       "      <td>1116</td>\n",
       "      <td>81</td>\n",
       "      <td>66</td>\n",
       "      <td>1938</td>\n",
       "      <td>7</td>\n",
       "      <td>Female</td>\n",
       "      <td>11 Spruce Avenue</td>\n",
       "      <td>40.32</td>\n",
       "      <td>-75.32</td>\n",
       "      <td>$26273</td>\n",
       "      <td>$42509</td>\n",
       "      <td>$2895</td>\n",
       "      <td>755</td>\n",
       "      <td>5</td>\n",
       "    </tr>\n",
       "    <tr>\n",
       "      <th>9</th>\n",
       "      <td>1752</td>\n",
       "      <td>34</td>\n",
       "      <td>60</td>\n",
       "      <td>1986</td>\n",
       "      <td>1</td>\n",
       "      <td>Female</td>\n",
       "      <td>887 Grant Street</td>\n",
       "      <td>29.97</td>\n",
       "      <td>-92.12</td>\n",
       "      <td>$18730</td>\n",
       "      <td>$38190</td>\n",
       "      <td>$81262</td>\n",
       "      <td>810</td>\n",
       "      <td>1</td>\n",
       "    </tr>\n",
       "  </tbody>\n",
       "</table>\n",
       "</div>"
      ],
      "text/plain": [
       "     id  current_age  retirement_age  birth_year  birth_month  gender  \\\n",
       "0   825           53              66        1966           11  Female   \n",
       "1  1746           53              68        1966           12  Female   \n",
       "2  1718           81              67        1938           11  Female   \n",
       "3   708           63              63        1957            1  Female   \n",
       "4  1164           43              70        1976            9    Male   \n",
       "5    68           42              70        1977           10    Male   \n",
       "6  1075           36              67        1983           12  Female   \n",
       "7  1711           26              67        1993           12    Male   \n",
       "8  1116           81              66        1938            7  Female   \n",
       "9  1752           34              60        1986            1  Female   \n",
       "\n",
       "                    address  latitude  longitude per_capita_income  \\\n",
       "0             462 Rose Lane     34.15    -117.76            $29278   \n",
       "1    3606 Federal Boulevard     40.76     -73.74            $37891   \n",
       "2           766 Third Drive     34.02    -117.89            $22681   \n",
       "3          3 Madison Street     40.71     -73.99           $163145   \n",
       "4  9620 Valley Stream Drive     37.76    -122.44            $53797   \n",
       "5             58 Birch Lane     41.55     -90.60            $20599   \n",
       "6         5695 Fifth Street     38.22     -85.74            $25258   \n",
       "7         1941 Ninth Street     45.51    -122.64            $26790   \n",
       "8          11 Spruce Avenue     40.32     -75.32            $26273   \n",
       "9          887 Grant Street     29.97     -92.12            $18730   \n",
       "\n",
       "  yearly_income total_debt  credit_score  num_credit_cards  \n",
       "0        $59696    $127613           787                 5  \n",
       "1        $77254    $191349           701                 5  \n",
       "2        $33483       $196           698                 5  \n",
       "3       $249925    $202328           722                 4  \n",
       "4       $109687    $183855           675                 1  \n",
       "5        $41997         $0           704                 3  \n",
       "6        $51500    $102286           672                 3  \n",
       "7        $54623    $114711           728                 1  \n",
       "8        $42509      $2895           755                 5  \n",
       "9        $38190     $81262           810                 1  "
      ]
     },
     "execution_count": 276,
     "metadata": {},
     "output_type": "execute_result"
    }
   ],
   "source": [
    "df1=spark.read.csv(data1,header=True,inferSchema=True)\n",
    "df1.limit(10).toPandas()"
   ]
  },
  {
   "cell_type": "code",
   "execution_count": 277,
   "id": "e4ab4377-b3f4-4468-bb56-90eb065dfa4f",
   "metadata": {},
   "outputs": [],
   "source": [
    "# df3=spark.read.csv(data3,header=True,inferSchema=True)\n",
    "# df3.toPandas()"
   ]
  },
  {
   "cell_type": "code",
   "execution_count": 279,
   "id": "03e6e455-ac35-4907-8edf-72fb3c5e99ff",
   "metadata": {},
   "outputs": [
    {
     "data": {
      "text/html": [
       "<div>\n",
       "<style scoped>\n",
       "    .dataframe tbody tr th:only-of-type {\n",
       "        vertical-align: middle;\n",
       "    }\n",
       "\n",
       "    .dataframe tbody tr th {\n",
       "        vertical-align: top;\n",
       "    }\n",
       "\n",
       "    .dataframe thead th {\n",
       "        text-align: right;\n",
       "    }\n",
       "</style>\n",
       "<table border=\"1\" class=\"dataframe\">\n",
       "  <thead>\n",
       "    <tr style=\"text-align: right;\">\n",
       "      <th></th>\n",
       "      <th>id</th>\n",
       "      <th>current_age</th>\n",
       "      <th>retirement_age</th>\n",
       "      <th>birth_year</th>\n",
       "      <th>birth_month</th>\n",
       "      <th>gender</th>\n",
       "      <th>address</th>\n",
       "      <th>latitude</th>\n",
       "      <th>longitude</th>\n",
       "      <th>per_capita_income</th>\n",
       "      <th>yearly_income</th>\n",
       "      <th>total_debt</th>\n",
       "      <th>credit_score</th>\n",
       "      <th>num_credit_cards</th>\n",
       "    </tr>\n",
       "  </thead>\n",
       "  <tbody>\n",
       "    <tr>\n",
       "      <th>0</th>\n",
       "      <td>825</td>\n",
       "      <td>53</td>\n",
       "      <td>66</td>\n",
       "      <td>1966</td>\n",
       "      <td>11</td>\n",
       "      <td>Female</td>\n",
       "      <td>462 Rose Lane</td>\n",
       "      <td>34.15</td>\n",
       "      <td>-117.76</td>\n",
       "      <td>$29278</td>\n",
       "      <td>$59696</td>\n",
       "      <td>$127613</td>\n",
       "      <td>787</td>\n",
       "      <td>5</td>\n",
       "    </tr>\n",
       "  </tbody>\n",
       "</table>\n",
       "</div>"
      ],
      "text/plain": [
       "    id  current_age  retirement_age  birth_year  birth_month  gender  \\\n",
       "0  825           53              66        1966           11  Female   \n",
       "\n",
       "         address  latitude  longitude per_capita_income yearly_income  \\\n",
       "0  462 Rose Lane     34.15    -117.76            $29278        $59696   \n",
       "\n",
       "  total_debt  credit_score  num_credit_cards  \n",
       "0    $127613           787                 5  "
      ]
     },
     "execution_count": 279,
     "metadata": {},
     "output_type": "execute_result"
    }
   ],
   "source": [
    "df1.limit(1).toPandas()"
   ]
  },
  {
   "cell_type": "code",
   "execution_count": 280,
   "id": "2cc4d02a-79be-4db0-a7b1-ed04db4443e9",
   "metadata": {},
   "outputs": [
    {
     "name": "stdout",
     "output_type": "stream",
     "text": [
      "root\n",
      " |-- id: integer (nullable = true)\n",
      " |-- current_age: integer (nullable = true)\n",
      " |-- retirement_age: integer (nullable = true)\n",
      " |-- birth_year: integer (nullable = true)\n",
      " |-- birth_month: integer (nullable = true)\n",
      " |-- gender: string (nullable = true)\n",
      " |-- address: string (nullable = true)\n",
      " |-- latitude: double (nullable = true)\n",
      " |-- longitude: double (nullable = true)\n",
      " |-- per_capita_income: string (nullable = true)\n",
      " |-- yearly_income: string (nullable = true)\n",
      " |-- total_debt: string (nullable = true)\n",
      " |-- credit_score: integer (nullable = true)\n",
      " |-- num_credit_cards: integer (nullable = true)\n",
      "\n"
     ]
    }
   ],
   "source": [
    "df1.printSchema()"
   ]
  },
  {
   "cell_type": "code",
   "execution_count": 281,
   "id": "85471e93-cd40-4d4c-b2d0-d64adb9bf7e6",
   "metadata": {},
   "outputs": [
    {
     "data": {
      "text/html": [
       "<div>\n",
       "<style scoped>\n",
       "    .dataframe tbody tr th:only-of-type {\n",
       "        vertical-align: middle;\n",
       "    }\n",
       "\n",
       "    .dataframe tbody tr th {\n",
       "        vertical-align: top;\n",
       "    }\n",
       "\n",
       "    .dataframe thead th {\n",
       "        text-align: right;\n",
       "    }\n",
       "</style>\n",
       "<table border=\"1\" class=\"dataframe\">\n",
       "  <thead>\n",
       "    <tr style=\"text-align: right;\">\n",
       "      <th></th>\n",
       "      <th>summary</th>\n",
       "      <th>id</th>\n",
       "      <th>current_age</th>\n",
       "      <th>retirement_age</th>\n",
       "      <th>birth_year</th>\n",
       "      <th>birth_month</th>\n",
       "      <th>gender</th>\n",
       "      <th>address</th>\n",
       "      <th>latitude</th>\n",
       "      <th>longitude</th>\n",
       "      <th>per_capita_income</th>\n",
       "      <th>yearly_income</th>\n",
       "      <th>total_debt</th>\n",
       "      <th>credit_score</th>\n",
       "      <th>num_credit_cards</th>\n",
       "    </tr>\n",
       "  </thead>\n",
       "  <tbody>\n",
       "    <tr>\n",
       "      <th>0</th>\n",
       "      <td>count</td>\n",
       "      <td>2000</td>\n",
       "      <td>2000</td>\n",
       "      <td>2000</td>\n",
       "      <td>2000</td>\n",
       "      <td>2000</td>\n",
       "      <td>2000</td>\n",
       "      <td>2000</td>\n",
       "      <td>2000</td>\n",
       "      <td>2000</td>\n",
       "      <td>2000</td>\n",
       "      <td>2000</td>\n",
       "      <td>2000</td>\n",
       "      <td>2000</td>\n",
       "      <td>2000</td>\n",
       "    </tr>\n",
       "    <tr>\n",
       "      <th>1</th>\n",
       "      <td>mean</td>\n",
       "      <td>999.5</td>\n",
       "      <td>45.3915</td>\n",
       "      <td>66.2375</td>\n",
       "      <td>1973.803</td>\n",
       "      <td>6.439</td>\n",
       "      <td>None</td>\n",
       "      <td>None</td>\n",
       "      <td>37.38922499999989</td>\n",
       "      <td>-91.55476499999995</td>\n",
       "      <td>None</td>\n",
       "      <td>None</td>\n",
       "      <td>None</td>\n",
       "      <td>709.7345</td>\n",
       "      <td>3.073</td>\n",
       "    </tr>\n",
       "    <tr>\n",
       "      <th>2</th>\n",
       "      <td>stddev</td>\n",
       "      <td>577.4945887192365</td>\n",
       "      <td>18.414091537014993</td>\n",
       "      <td>3.628867328663937</td>\n",
       "      <td>18.42123399587999</td>\n",
       "      <td>3.5653379667864167</td>\n",
       "      <td>None</td>\n",
       "      <td>None</td>\n",
       "      <td>5.11432396355345</td>\n",
       "      <td>16.28329261709689</td>\n",
       "      <td>None</td>\n",
       "      <td>None</td>\n",
       "      <td>None</td>\n",
       "      <td>67.22194883334225</td>\n",
       "      <td>1.6373794629690674</td>\n",
       "    </tr>\n",
       "    <tr>\n",
       "      <th>3</th>\n",
       "      <td>min</td>\n",
       "      <td>0</td>\n",
       "      <td>18</td>\n",
       "      <td>50</td>\n",
       "      <td>1918</td>\n",
       "      <td>1</td>\n",
       "      <td>Female</td>\n",
       "      <td>0 Elm Street</td>\n",
       "      <td>20.88</td>\n",
       "      <td>-159.41</td>\n",
       "      <td>$0</td>\n",
       "      <td>$1</td>\n",
       "      <td>$0</td>\n",
       "      <td>480</td>\n",
       "      <td>1</td>\n",
       "    </tr>\n",
       "    <tr>\n",
       "      <th>4</th>\n",
       "      <td>max</td>\n",
       "      <td>1999</td>\n",
       "      <td>101</td>\n",
       "      <td>79</td>\n",
       "      <td>2002</td>\n",
       "      <td>12</td>\n",
       "      <td>Male</td>\n",
       "      <td>9995 Pine Avenue</td>\n",
       "      <td>61.2</td>\n",
       "      <td>-68.67</td>\n",
       "      <td>$9995</td>\n",
       "      <td>$99883</td>\n",
       "      <td>$99840</td>\n",
       "      <td>850</td>\n",
       "      <td>9</td>\n",
       "    </tr>\n",
       "  </tbody>\n",
       "</table>\n",
       "</div>"
      ],
      "text/plain": [
       "  summary                 id         current_age     retirement_age  \\\n",
       "0   count               2000                2000               2000   \n",
       "1    mean              999.5             45.3915            66.2375   \n",
       "2  stddev  577.4945887192365  18.414091537014993  3.628867328663937   \n",
       "3     min                  0                  18                 50   \n",
       "4     max               1999                 101                 79   \n",
       "\n",
       "          birth_year         birth_month  gender           address  \\\n",
       "0               2000                2000    2000              2000   \n",
       "1           1973.803               6.439    None              None   \n",
       "2  18.42123399587999  3.5653379667864167    None              None   \n",
       "3               1918                   1  Female      0 Elm Street   \n",
       "4               2002                  12    Male  9995 Pine Avenue   \n",
       "\n",
       "            latitude           longitude per_capita_income yearly_income  \\\n",
       "0               2000                2000              2000          2000   \n",
       "1  37.38922499999989  -91.55476499999995              None          None   \n",
       "2   5.11432396355345   16.28329261709689              None          None   \n",
       "3              20.88             -159.41                $0            $1   \n",
       "4               61.2              -68.67             $9995        $99883   \n",
       "\n",
       "  total_debt       credit_score    num_credit_cards  \n",
       "0       2000               2000                2000  \n",
       "1       None           709.7345               3.073  \n",
       "2       None  67.22194883334225  1.6373794629690674  \n",
       "3         $0                480                   1  \n",
       "4     $99840                850                   9  "
      ]
     },
     "execution_count": 281,
     "metadata": {},
     "output_type": "execute_result"
    }
   ],
   "source": [
    "df1.describe().toPandas()"
   ]
  },
  {
   "cell_type": "code",
   "execution_count": 282,
   "id": "3d196cee-7864-4cb3-81bc-59e6a4bba538",
   "metadata": {},
   "outputs": [
    {
     "data": {
      "text/html": [
       "<div>\n",
       "<style scoped>\n",
       "    .dataframe tbody tr th:only-of-type {\n",
       "        vertical-align: middle;\n",
       "    }\n",
       "\n",
       "    .dataframe tbody tr th {\n",
       "        vertical-align: top;\n",
       "    }\n",
       "\n",
       "    .dataframe thead th {\n",
       "        text-align: right;\n",
       "    }\n",
       "</style>\n",
       "<table border=\"1\" class=\"dataframe\">\n",
       "  <thead>\n",
       "    <tr style=\"text-align: right;\">\n",
       "      <th></th>\n",
       "      <th>summary</th>\n",
       "      <th>id</th>\n",
       "      <th>current_age</th>\n",
       "      <th>retirement_age</th>\n",
       "      <th>birth_year</th>\n",
       "      <th>birth_month</th>\n",
       "      <th>gender</th>\n",
       "      <th>address</th>\n",
       "      <th>latitude</th>\n",
       "      <th>longitude</th>\n",
       "      <th>per_capita_income</th>\n",
       "      <th>yearly_income</th>\n",
       "      <th>total_debt</th>\n",
       "      <th>credit_score</th>\n",
       "      <th>num_credit_cards</th>\n",
       "    </tr>\n",
       "  </thead>\n",
       "  <tbody>\n",
       "    <tr>\n",
       "      <th>0</th>\n",
       "      <td>count</td>\n",
       "      <td>2000</td>\n",
       "      <td>2000</td>\n",
       "      <td>2000</td>\n",
       "      <td>2000</td>\n",
       "      <td>2000</td>\n",
       "      <td>2000</td>\n",
       "      <td>2000</td>\n",
       "      <td>2000</td>\n",
       "      <td>2000</td>\n",
       "      <td>2000</td>\n",
       "      <td>2000</td>\n",
       "      <td>2000</td>\n",
       "      <td>2000</td>\n",
       "      <td>2000</td>\n",
       "    </tr>\n",
       "    <tr>\n",
       "      <th>1</th>\n",
       "      <td>mean</td>\n",
       "      <td>999.5</td>\n",
       "      <td>45.3915</td>\n",
       "      <td>66.2375</td>\n",
       "      <td>1973.803</td>\n",
       "      <td>6.439</td>\n",
       "      <td>None</td>\n",
       "      <td>None</td>\n",
       "      <td>37.38922499999989</td>\n",
       "      <td>-91.55476499999995</td>\n",
       "      <td>None</td>\n",
       "      <td>None</td>\n",
       "      <td>None</td>\n",
       "      <td>709.7345</td>\n",
       "      <td>3.073</td>\n",
       "    </tr>\n",
       "    <tr>\n",
       "      <th>2</th>\n",
       "      <td>stddev</td>\n",
       "      <td>577.4945887192365</td>\n",
       "      <td>18.414091537014993</td>\n",
       "      <td>3.628867328663937</td>\n",
       "      <td>18.42123399587999</td>\n",
       "      <td>3.5653379667864167</td>\n",
       "      <td>None</td>\n",
       "      <td>None</td>\n",
       "      <td>5.11432396355345</td>\n",
       "      <td>16.28329261709689</td>\n",
       "      <td>None</td>\n",
       "      <td>None</td>\n",
       "      <td>None</td>\n",
       "      <td>67.22194883334225</td>\n",
       "      <td>1.6373794629690674</td>\n",
       "    </tr>\n",
       "    <tr>\n",
       "      <th>3</th>\n",
       "      <td>min</td>\n",
       "      <td>0</td>\n",
       "      <td>18</td>\n",
       "      <td>50</td>\n",
       "      <td>1918</td>\n",
       "      <td>1</td>\n",
       "      <td>Female</td>\n",
       "      <td>0 Elm Street</td>\n",
       "      <td>20.88</td>\n",
       "      <td>-159.41</td>\n",
       "      <td>$0</td>\n",
       "      <td>$1</td>\n",
       "      <td>$0</td>\n",
       "      <td>480</td>\n",
       "      <td>1</td>\n",
       "    </tr>\n",
       "    <tr>\n",
       "      <th>4</th>\n",
       "      <td>25%</td>\n",
       "      <td>499</td>\n",
       "      <td>30</td>\n",
       "      <td>65</td>\n",
       "      <td>1961</td>\n",
       "      <td>3</td>\n",
       "      <td>None</td>\n",
       "      <td>None</td>\n",
       "      <td>33.83</td>\n",
       "      <td>-97.41</td>\n",
       "      <td>None</td>\n",
       "      <td>None</td>\n",
       "      <td>None</td>\n",
       "      <td>681</td>\n",
       "      <td>2</td>\n",
       "    </tr>\n",
       "    <tr>\n",
       "      <th>5</th>\n",
       "      <td>50%</td>\n",
       "      <td>999</td>\n",
       "      <td>44</td>\n",
       "      <td>66</td>\n",
       "      <td>1975</td>\n",
       "      <td>7</td>\n",
       "      <td>None</td>\n",
       "      <td>None</td>\n",
       "      <td>38.23</td>\n",
       "      <td>-86.44</td>\n",
       "      <td>None</td>\n",
       "      <td>None</td>\n",
       "      <td>None</td>\n",
       "      <td>711</td>\n",
       "      <td>3</td>\n",
       "    </tr>\n",
       "    <tr>\n",
       "      <th>6</th>\n",
       "      <td>75%</td>\n",
       "      <td>1499</td>\n",
       "      <td>58</td>\n",
       "      <td>68</td>\n",
       "      <td>1989</td>\n",
       "      <td>10</td>\n",
       "      <td>None</td>\n",
       "      <td>None</td>\n",
       "      <td>41.2</td>\n",
       "      <td>-80.13</td>\n",
       "      <td>None</td>\n",
       "      <td>None</td>\n",
       "      <td>None</td>\n",
       "      <td>753</td>\n",
       "      <td>4</td>\n",
       "    </tr>\n",
       "    <tr>\n",
       "      <th>7</th>\n",
       "      <td>max</td>\n",
       "      <td>1999</td>\n",
       "      <td>101</td>\n",
       "      <td>79</td>\n",
       "      <td>2002</td>\n",
       "      <td>12</td>\n",
       "      <td>Male</td>\n",
       "      <td>9995 Pine Avenue</td>\n",
       "      <td>61.2</td>\n",
       "      <td>-68.67</td>\n",
       "      <td>$9995</td>\n",
       "      <td>$99883</td>\n",
       "      <td>$99840</td>\n",
       "      <td>850</td>\n",
       "      <td>9</td>\n",
       "    </tr>\n",
       "  </tbody>\n",
       "</table>\n",
       "</div>"
      ],
      "text/plain": [
       "  summary                 id         current_age     retirement_age  \\\n",
       "0   count               2000                2000               2000   \n",
       "1    mean              999.5             45.3915            66.2375   \n",
       "2  stddev  577.4945887192365  18.414091537014993  3.628867328663937   \n",
       "3     min                  0                  18                 50   \n",
       "4     25%                499                  30                 65   \n",
       "5     50%                999                  44                 66   \n",
       "6     75%               1499                  58                 68   \n",
       "7     max               1999                 101                 79   \n",
       "\n",
       "          birth_year         birth_month  gender           address  \\\n",
       "0               2000                2000    2000              2000   \n",
       "1           1973.803               6.439    None              None   \n",
       "2  18.42123399587999  3.5653379667864167    None              None   \n",
       "3               1918                   1  Female      0 Elm Street   \n",
       "4               1961                   3    None              None   \n",
       "5               1975                   7    None              None   \n",
       "6               1989                  10    None              None   \n",
       "7               2002                  12    Male  9995 Pine Avenue   \n",
       "\n",
       "            latitude           longitude per_capita_income yearly_income  \\\n",
       "0               2000                2000              2000          2000   \n",
       "1  37.38922499999989  -91.55476499999995              None          None   \n",
       "2   5.11432396355345   16.28329261709689              None          None   \n",
       "3              20.88             -159.41                $0            $1   \n",
       "4              33.83              -97.41              None          None   \n",
       "5              38.23              -86.44              None          None   \n",
       "6               41.2              -80.13              None          None   \n",
       "7               61.2              -68.67             $9995        $99883   \n",
       "\n",
       "  total_debt       credit_score    num_credit_cards  \n",
       "0       2000               2000                2000  \n",
       "1       None           709.7345               3.073  \n",
       "2       None  67.22194883334225  1.6373794629690674  \n",
       "3         $0                480                   1  \n",
       "4       None                681                   2  \n",
       "5       None                711                   3  \n",
       "6       None                753                   4  \n",
       "7     $99840                850                   9  "
      ]
     },
     "execution_count": 282,
     "metadata": {},
     "output_type": "execute_result"
    }
   ],
   "source": [
    "df1.summary().toPandas()"
   ]
  },
  {
   "cell_type": "code",
   "execution_count": 283,
   "id": "8ea031b3-be54-4258-a7f3-a16035149dc6",
   "metadata": {},
   "outputs": [
    {
     "data": {
      "text/plain": [
       "['id',\n",
       " 'current_age',\n",
       " 'retirement_age',\n",
       " 'birth_year',\n",
       " 'birth_month',\n",
       " 'gender',\n",
       " 'address',\n",
       " 'latitude',\n",
       " 'longitude',\n",
       " 'per_capita_income',\n",
       " 'yearly_income',\n",
       " 'total_debt',\n",
       " 'credit_score',\n",
       " 'num_credit_cards']"
      ]
     },
     "execution_count": 283,
     "metadata": {},
     "output_type": "execute_result"
    }
   ],
   "source": [
    "df1.columns"
   ]
  },
  {
   "cell_type": "code",
   "execution_count": 284,
   "id": "f76c311c-f0e8-4101-b1e8-207a546e70b8",
   "metadata": {},
   "outputs": [
    {
     "data": {
      "text/plain": [
       "2000"
      ]
     },
     "execution_count": 284,
     "metadata": {},
     "output_type": "execute_result"
    }
   ],
   "source": [
    "df1.count()"
   ]
  },
  {
   "cell_type": "code",
   "execution_count": 285,
   "id": "b6f24dd9-c278-4afa-b908-95cc4d371a78",
   "metadata": {},
   "outputs": [
    {
     "data": {
      "text/plain": [
       "DataFrame[id: int, current_age: int, retirement_age: int, birth_year: int, birth_month: int, gender: string, address: string, latitude: double, longitude: double, per_capita_income: string, yearly_income: string, total_debt: string, credit_score: int, num_credit_cards: int]"
      ]
     },
     "execution_count": 285,
     "metadata": {},
     "output_type": "execute_result"
    }
   ],
   "source": [
    "df1.dropna()"
   ]
  },
  {
   "cell_type": "code",
   "execution_count": 286,
   "id": "be8d0de7-71e0-423b-a1c8-f581e3cad759",
   "metadata": {},
   "outputs": [
    {
     "data": {
      "text/plain": [
       "2000"
      ]
     },
     "execution_count": 286,
     "metadata": {},
     "output_type": "execute_result"
    }
   ],
   "source": [
    "df1.count()"
   ]
  },
  {
   "cell_type": "code",
   "execution_count": 287,
   "id": "bc032738-5540-452b-8d46-abae47c55c40",
   "metadata": {},
   "outputs": [
    {
     "data": {
      "text/plain": [
       "DataFrame[id: int, current_age: int, retirement_age: int, birth_year: int, birth_month: int, gender: string, address: string, latitude: double, longitude: double, per_capita_income: string, yearly_income: string, total_debt: string, credit_score: int, num_credit_cards: int]"
      ]
     },
     "execution_count": 287,
     "metadata": {},
     "output_type": "execute_result"
    }
   ],
   "source": [
    "df1.dropDuplicates()"
   ]
  },
  {
   "cell_type": "code",
   "execution_count": 288,
   "id": "eb55f1d3-c7b7-4f9d-b3fc-a68b0785fb33",
   "metadata": {},
   "outputs": [
    {
     "data": {
      "text/html": [
       "<div>\n",
       "<style scoped>\n",
       "    .dataframe tbody tr th:only-of-type {\n",
       "        vertical-align: middle;\n",
       "    }\n",
       "\n",
       "    .dataframe tbody tr th {\n",
       "        vertical-align: top;\n",
       "    }\n",
       "\n",
       "    .dataframe thead th {\n",
       "        text-align: right;\n",
       "    }\n",
       "</style>\n",
       "<table border=\"1\" class=\"dataframe\">\n",
       "  <thead>\n",
       "    <tr style=\"text-align: right;\">\n",
       "      <th></th>\n",
       "      <th>id</th>\n",
       "      <th>current_age</th>\n",
       "      <th>retirement_age</th>\n",
       "      <th>birth_year</th>\n",
       "      <th>birth_month</th>\n",
       "      <th>gender</th>\n",
       "      <th>address</th>\n",
       "      <th>latitude</th>\n",
       "      <th>longitude</th>\n",
       "      <th>per_capita_income</th>\n",
       "      <th>yearly_income</th>\n",
       "      <th>total_debt</th>\n",
       "      <th>credit_score</th>\n",
       "      <th>num_credit_cards</th>\n",
       "    </tr>\n",
       "  </thead>\n",
       "  <tbody>\n",
       "    <tr>\n",
       "      <th>0</th>\n",
       "      <td>825</td>\n",
       "      <td>53</td>\n",
       "      <td>66</td>\n",
       "      <td>1966</td>\n",
       "      <td>11</td>\n",
       "      <td>Female</td>\n",
       "      <td>462 Rose Lane</td>\n",
       "      <td>34.15</td>\n",
       "      <td>-117.76</td>\n",
       "      <td>$29278</td>\n",
       "      <td>$59696</td>\n",
       "      <td>$127613</td>\n",
       "      <td>787</td>\n",
       "      <td>5</td>\n",
       "    </tr>\n",
       "  </tbody>\n",
       "</table>\n",
       "</div>"
      ],
      "text/plain": [
       "    id  current_age  retirement_age  birth_year  birth_month  gender  \\\n",
       "0  825           53              66        1966           11  Female   \n",
       "\n",
       "         address  latitude  longitude per_capita_income yearly_income  \\\n",
       "0  462 Rose Lane     34.15    -117.76            $29278        $59696   \n",
       "\n",
       "  total_debt  credit_score  num_credit_cards  \n",
       "0    $127613           787                 5  "
      ]
     },
     "execution_count": 288,
     "metadata": {},
     "output_type": "execute_result"
    }
   ],
   "source": [
    "df1.limit(1).toPandas()"
   ]
  },
  {
   "cell_type": "code",
   "execution_count": 289,
   "id": "3291ac3c-c745-445d-bc2b-c8e720fefc58",
   "metadata": {},
   "outputs": [
    {
     "data": {
      "text/plain": [
       "StringType()"
      ]
     },
     "execution_count": 289,
     "metadata": {},
     "output_type": "execute_result"
    }
   ],
   "source": [
    "df1.schema[\"per_capita_income\"].dataType"
   ]
  },
  {
   "cell_type": "code",
   "execution_count": 290,
   "id": "71ffcbb7-e101-4438-883a-6c4bac44191a",
   "metadata": {},
   "outputs": [],
   "source": [
    "df1 = df1.withColumn(\n",
    "    \"per_capita_income\",\n",
    "    regexp_replace(col(\"per_capita_income\"), \"[$,]\", \"\").cast(\"int\")\n",
    ")"
   ]
  },
  {
   "cell_type": "code",
   "execution_count": 291,
   "id": "b9038260-550e-483f-9fb4-531145371bdb",
   "metadata": {},
   "outputs": [
    {
     "data": {
      "text/plain": [
       "IntegerType()"
      ]
     },
     "execution_count": 291,
     "metadata": {},
     "output_type": "execute_result"
    }
   ],
   "source": [
    "df1.schema[\"per_capita_income\"].dataType"
   ]
  },
  {
   "cell_type": "code",
   "execution_count": 292,
   "id": "f62abbed-0e21-477d-a6d5-02528022a6d3",
   "metadata": {},
   "outputs": [
    {
     "name": "stdout",
     "output_type": "stream",
     "text": [
      "+-----------------+\n",
      "|per_capita_income|\n",
      "+-----------------+\n",
      "|            29278|\n",
      "|            37891|\n",
      "|            22681|\n",
      "|           163145|\n",
      "|            53797|\n",
      "|            20599|\n",
      "|            25258|\n",
      "|            26790|\n",
      "|            26273|\n",
      "|            18730|\n",
      "|            27548|\n",
      "|            22427|\n",
      "|            33914|\n",
      "|            20325|\n",
      "|            10059|\n",
      "|            11342|\n",
      "|            17898|\n",
      "|            21950|\n",
      "|            26481|\n",
      "|            17460|\n",
      "+-----------------+\n",
      "only showing top 20 rows\n",
      "\n"
     ]
    }
   ],
   "source": [
    "df1.select(\"per_capita_income\").show()"
   ]
  },
  {
   "cell_type": "code",
   "execution_count": 293,
   "id": "d830b4c1-3c98-49d3-be5d-4647d807aecb",
   "metadata": {},
   "outputs": [
    {
     "data": {
      "text/plain": [
       "StringType()"
      ]
     },
     "execution_count": 293,
     "metadata": {},
     "output_type": "execute_result"
    }
   ],
   "source": [
    "df1.schema[\"yearly_income\"].dataType"
   ]
  },
  {
   "cell_type": "code",
   "execution_count": 294,
   "id": "6db2cb1b-e22f-4135-80fa-7960cac3f4d9",
   "metadata": {},
   "outputs": [
    {
     "name": "stdout",
     "output_type": "stream",
     "text": [
      "+-------------+\n",
      "|yearly_income|\n",
      "+-------------+\n",
      "|       $59696|\n",
      "|       $77254|\n",
      "|       $33483|\n",
      "|      $249925|\n",
      "|      $109687|\n",
      "+-------------+\n",
      "\n"
     ]
    }
   ],
   "source": [
    "df1.select(\"yearly_income\").limit(5).show()"
   ]
  },
  {
   "cell_type": "code",
   "execution_count": 295,
   "id": "cce09155-c214-4d7a-a1aa-67e38bea3445",
   "metadata": {},
   "outputs": [],
   "source": [
    "df1=df1.withColumn(\n",
    "    \"yearly_income\",\n",
    "    regexp_replace(col(\"yearly_income\"),\"[$]\",\"\").cast(\"int\")\n",
    ")"
   ]
  },
  {
   "cell_type": "code",
   "execution_count": 296,
   "id": "fe68a3e3-886e-4f1e-ad18-95609552ac1e",
   "metadata": {},
   "outputs": [
    {
     "data": {
      "text/plain": [
       "IntegerType()"
      ]
     },
     "execution_count": 296,
     "metadata": {},
     "output_type": "execute_result"
    }
   ],
   "source": [
    "df1.schema[\"yearly_income\"].dataType"
   ]
  },
  {
   "cell_type": "code",
   "execution_count": 297,
   "id": "65c56b09-1e52-4dd4-9cd2-4e550032f3d7",
   "metadata": {},
   "outputs": [
    {
     "name": "stdout",
     "output_type": "stream",
     "text": [
      "+-------------+\n",
      "|yearly_income|\n",
      "+-------------+\n",
      "|        59696|\n",
      "|        77254|\n",
      "|        33483|\n",
      "|       249925|\n",
      "|       109687|\n",
      "+-------------+\n",
      "\n"
     ]
    }
   ],
   "source": [
    "df1.select(\"yearly_income\").limit(5).show()"
   ]
  },
  {
   "cell_type": "code",
   "execution_count": 298,
   "id": "ad0aa76e-d99c-4e39-b870-a7932846bd3b",
   "metadata": {},
   "outputs": [
    {
     "data": {
      "text/plain": [
       "StringType()"
      ]
     },
     "execution_count": 298,
     "metadata": {},
     "output_type": "execute_result"
    }
   ],
   "source": [
    "df1.schema[\"total_debt\"].dataType"
   ]
  },
  {
   "cell_type": "code",
   "execution_count": 299,
   "id": "f10b83fe-9bc3-49f2-945e-51fdfaebfb86",
   "metadata": {},
   "outputs": [
    {
     "name": "stdout",
     "output_type": "stream",
     "text": [
      "+----------+\n",
      "|total_debt|\n",
      "+----------+\n",
      "|   $127613|\n",
      "|   $191349|\n",
      "|      $196|\n",
      "|   $202328|\n",
      "|   $183855|\n",
      "+----------+\n",
      "\n"
     ]
    }
   ],
   "source": [
    "df1.select(\"total_debt\").limit(5).show()"
   ]
  },
  {
   "cell_type": "code",
   "execution_count": 300,
   "id": "f1fb237a-bac6-4a2c-b553-ca0a206a6e06",
   "metadata": {},
   "outputs": [],
   "source": [
    "df1=df1.withColumn(\n",
    "    \"total_debt\",\n",
    "    regexp_replace(col(\"total_debt\"),\"[$]\",\"\").cast(\"int\")\n",
    ")"
   ]
  },
  {
   "cell_type": "code",
   "execution_count": 301,
   "id": "0e9ad858-4951-456d-b46d-245888219113",
   "metadata": {},
   "outputs": [
    {
     "data": {
      "text/plain": [
       "IntegerType()"
      ]
     },
     "execution_count": 301,
     "metadata": {},
     "output_type": "execute_result"
    }
   ],
   "source": [
    "df1.schema[\"total_debt\"].dataType"
   ]
  },
  {
   "cell_type": "code",
   "execution_count": 302,
   "id": "6d50b7c4-4dd1-40ce-86bb-cfae80c27c3c",
   "metadata": {},
   "outputs": [
    {
     "name": "stdout",
     "output_type": "stream",
     "text": [
      "+----------+\n",
      "|total_debt|\n",
      "+----------+\n",
      "|    127613|\n",
      "|    191349|\n",
      "|       196|\n",
      "|    202328|\n",
      "|    183855|\n",
      "+----------+\n",
      "\n"
     ]
    }
   ],
   "source": [
    "df1.select(\"total_debt\").limit(5).show()"
   ]
  },
  {
   "cell_type": "code",
   "execution_count": 303,
   "id": "8d1c74e0-2524-4b56-9d95-e3a0425a2b96",
   "metadata": {},
   "outputs": [
    {
     "name": "stdout",
     "output_type": "stream",
     "text": [
      "root\n",
      " |-- id: integer (nullable = true)\n",
      " |-- current_age: integer (nullable = true)\n",
      " |-- retirement_age: integer (nullable = true)\n",
      " |-- birth_year: integer (nullable = true)\n",
      " |-- birth_month: integer (nullable = true)\n",
      " |-- gender: string (nullable = true)\n",
      " |-- address: string (nullable = true)\n",
      " |-- latitude: double (nullable = true)\n",
      " |-- longitude: double (nullable = true)\n",
      " |-- per_capita_income: integer (nullable = true)\n",
      " |-- yearly_income: integer (nullable = true)\n",
      " |-- total_debt: integer (nullable = true)\n",
      " |-- credit_score: integer (nullable = true)\n",
      " |-- num_credit_cards: integer (nullable = true)\n",
      "\n"
     ]
    }
   ],
   "source": [
    "df1.printSchema()"
   ]
  },
  {
   "cell_type": "code",
   "execution_count": null,
   "id": "6b602203-3f1a-4b75-affb-8f35afd37fe4",
   "metadata": {},
   "outputs": [],
   "source": []
  },
  {
   "cell_type": "markdown",
   "id": "d148e05e-ddaa-4c43-949c-0dbda4dc5438",
   "metadata": {},
   "source": [
    "### Data 2 Cleaning"
   ]
  },
  {
   "cell_type": "code",
   "execution_count": 304,
   "id": "2a8c7e4c-d9fb-4208-8d9b-67e6b9446805",
   "metadata": {},
   "outputs": [
    {
     "data": {
      "text/html": [
       "<div>\n",
       "<style scoped>\n",
       "    .dataframe tbody tr th:only-of-type {\n",
       "        vertical-align: middle;\n",
       "    }\n",
       "\n",
       "    .dataframe tbody tr th {\n",
       "        vertical-align: top;\n",
       "    }\n",
       "\n",
       "    .dataframe thead th {\n",
       "        text-align: right;\n",
       "    }\n",
       "</style>\n",
       "<table border=\"1\" class=\"dataframe\">\n",
       "  <thead>\n",
       "    <tr style=\"text-align: right;\">\n",
       "      <th></th>\n",
       "      <th>id</th>\n",
       "      <th>client_id</th>\n",
       "      <th>card_brand</th>\n",
       "      <th>card_type</th>\n",
       "      <th>card_number</th>\n",
       "      <th>expires</th>\n",
       "      <th>cvv</th>\n",
       "      <th>has_chip</th>\n",
       "      <th>num_cards_issued</th>\n",
       "      <th>credit_limit</th>\n",
       "      <th>acct_open_date</th>\n",
       "      <th>year_pin_last_changed</th>\n",
       "      <th>card_on_dark_web</th>\n",
       "    </tr>\n",
       "  </thead>\n",
       "  <tbody>\n",
       "    <tr>\n",
       "      <th>0</th>\n",
       "      <td>4524</td>\n",
       "      <td>825</td>\n",
       "      <td>Visa</td>\n",
       "      <td>Debit</td>\n",
       "      <td>4344676511950444</td>\n",
       "      <td>12/2022</td>\n",
       "      <td>623</td>\n",
       "      <td>YES</td>\n",
       "      <td>2</td>\n",
       "      <td>$24295</td>\n",
       "      <td>09/2002</td>\n",
       "      <td>2008</td>\n",
       "      <td>No</td>\n",
       "    </tr>\n",
       "    <tr>\n",
       "      <th>1</th>\n",
       "      <td>2731</td>\n",
       "      <td>825</td>\n",
       "      <td>Visa</td>\n",
       "      <td>Debit</td>\n",
       "      <td>4956965974959986</td>\n",
       "      <td>12/2020</td>\n",
       "      <td>393</td>\n",
       "      <td>YES</td>\n",
       "      <td>2</td>\n",
       "      <td>$21968</td>\n",
       "      <td>04/2014</td>\n",
       "      <td>2014</td>\n",
       "      <td>No</td>\n",
       "    </tr>\n",
       "    <tr>\n",
       "      <th>2</th>\n",
       "      <td>3701</td>\n",
       "      <td>825</td>\n",
       "      <td>Visa</td>\n",
       "      <td>Debit</td>\n",
       "      <td>4582313478255491</td>\n",
       "      <td>02/2024</td>\n",
       "      <td>719</td>\n",
       "      <td>YES</td>\n",
       "      <td>2</td>\n",
       "      <td>$46414</td>\n",
       "      <td>07/2003</td>\n",
       "      <td>2004</td>\n",
       "      <td>No</td>\n",
       "    </tr>\n",
       "    <tr>\n",
       "      <th>3</th>\n",
       "      <td>42</td>\n",
       "      <td>825</td>\n",
       "      <td>Visa</td>\n",
       "      <td>Credit</td>\n",
       "      <td>4879494103069057</td>\n",
       "      <td>08/2024</td>\n",
       "      <td>693</td>\n",
       "      <td>NO</td>\n",
       "      <td>1</td>\n",
       "      <td>$12400</td>\n",
       "      <td>01/2003</td>\n",
       "      <td>2012</td>\n",
       "      <td>No</td>\n",
       "    </tr>\n",
       "    <tr>\n",
       "      <th>4</th>\n",
       "      <td>4659</td>\n",
       "      <td>825</td>\n",
       "      <td>Mastercard</td>\n",
       "      <td>Debit (Prepaid)</td>\n",
       "      <td>5722874738736011</td>\n",
       "      <td>03/2009</td>\n",
       "      <td>75</td>\n",
       "      <td>YES</td>\n",
       "      <td>1</td>\n",
       "      <td>$28</td>\n",
       "      <td>09/2008</td>\n",
       "      <td>2009</td>\n",
       "      <td>No</td>\n",
       "    </tr>\n",
       "    <tr>\n",
       "      <th>...</th>\n",
       "      <td>...</td>\n",
       "      <td>...</td>\n",
       "      <td>...</td>\n",
       "      <td>...</td>\n",
       "      <td>...</td>\n",
       "      <td>...</td>\n",
       "      <td>...</td>\n",
       "      <td>...</td>\n",
       "      <td>...</td>\n",
       "      <td>...</td>\n",
       "      <td>...</td>\n",
       "      <td>...</td>\n",
       "      <td>...</td>\n",
       "    </tr>\n",
       "    <tr>\n",
       "      <th>6141</th>\n",
       "      <td>5361</td>\n",
       "      <td>185</td>\n",
       "      <td>Amex</td>\n",
       "      <td>Credit</td>\n",
       "      <td>300609782832003</td>\n",
       "      <td>01/2024</td>\n",
       "      <td>663</td>\n",
       "      <td>YES</td>\n",
       "      <td>1</td>\n",
       "      <td>$6900</td>\n",
       "      <td>11/2000</td>\n",
       "      <td>2013</td>\n",
       "      <td>No</td>\n",
       "    </tr>\n",
       "    <tr>\n",
       "      <th>6142</th>\n",
       "      <td>2711</td>\n",
       "      <td>185</td>\n",
       "      <td>Visa</td>\n",
       "      <td>Credit</td>\n",
       "      <td>4718517475996018</td>\n",
       "      <td>01/2021</td>\n",
       "      <td>492</td>\n",
       "      <td>YES</td>\n",
       "      <td>2</td>\n",
       "      <td>$5700</td>\n",
       "      <td>04/2012</td>\n",
       "      <td>2012</td>\n",
       "      <td>No</td>\n",
       "    </tr>\n",
       "    <tr>\n",
       "      <th>6143</th>\n",
       "      <td>1305</td>\n",
       "      <td>1007</td>\n",
       "      <td>Mastercard</td>\n",
       "      <td>Credit</td>\n",
       "      <td>5929512204765914</td>\n",
       "      <td>08/2020</td>\n",
       "      <td>237</td>\n",
       "      <td>NO</td>\n",
       "      <td>2</td>\n",
       "      <td>$9200</td>\n",
       "      <td>02/2012</td>\n",
       "      <td>2012</td>\n",
       "      <td>No</td>\n",
       "    </tr>\n",
       "    <tr>\n",
       "      <th>6144</th>\n",
       "      <td>743</td>\n",
       "      <td>1110</td>\n",
       "      <td>Mastercard</td>\n",
       "      <td>Debit</td>\n",
       "      <td>5589768928167462</td>\n",
       "      <td>01/2020</td>\n",
       "      <td>630</td>\n",
       "      <td>YES</td>\n",
       "      <td>1</td>\n",
       "      <td>$28074</td>\n",
       "      <td>01/2020</td>\n",
       "      <td>2020</td>\n",
       "      <td>No</td>\n",
       "    </tr>\n",
       "    <tr>\n",
       "      <th>6145</th>\n",
       "      <td>3199</td>\n",
       "      <td>1110</td>\n",
       "      <td>Visa</td>\n",
       "      <td>Credit</td>\n",
       "      <td>4994011318343994</td>\n",
       "      <td>12/2020</td>\n",
       "      <td>120</td>\n",
       "      <td>YES</td>\n",
       "      <td>1</td>\n",
       "      <td>$14400</td>\n",
       "      <td>05/2017</td>\n",
       "      <td>2017</td>\n",
       "      <td>No</td>\n",
       "    </tr>\n",
       "  </tbody>\n",
       "</table>\n",
       "<p>6146 rows × 13 columns</p>\n",
       "</div>"
      ],
      "text/plain": [
       "        id  client_id  card_brand        card_type       card_number  expires  \\\n",
       "0     4524        825        Visa            Debit  4344676511950444  12/2022   \n",
       "1     2731        825        Visa            Debit  4956965974959986  12/2020   \n",
       "2     3701        825        Visa            Debit  4582313478255491  02/2024   \n",
       "3       42        825        Visa           Credit  4879494103069057  08/2024   \n",
       "4     4659        825  Mastercard  Debit (Prepaid)  5722874738736011  03/2009   \n",
       "...    ...        ...         ...              ...               ...      ...   \n",
       "6141  5361        185        Amex           Credit   300609782832003  01/2024   \n",
       "6142  2711        185        Visa           Credit  4718517475996018  01/2021   \n",
       "6143  1305       1007  Mastercard           Credit  5929512204765914  08/2020   \n",
       "6144   743       1110  Mastercard            Debit  5589768928167462  01/2020   \n",
       "6145  3199       1110        Visa           Credit  4994011318343994  12/2020   \n",
       "\n",
       "      cvv has_chip  num_cards_issued credit_limit acct_open_date  \\\n",
       "0     623      YES                 2       $24295        09/2002   \n",
       "1     393      YES                 2       $21968        04/2014   \n",
       "2     719      YES                 2       $46414        07/2003   \n",
       "3     693       NO                 1       $12400        01/2003   \n",
       "4      75      YES                 1          $28        09/2008   \n",
       "...   ...      ...               ...          ...            ...   \n",
       "6141  663      YES                 1        $6900        11/2000   \n",
       "6142  492      YES                 2        $5700        04/2012   \n",
       "6143  237       NO                 2        $9200        02/2012   \n",
       "6144  630      YES                 1       $28074        01/2020   \n",
       "6145  120      YES                 1       $14400        05/2017   \n",
       "\n",
       "      year_pin_last_changed card_on_dark_web  \n",
       "0                      2008               No  \n",
       "1                      2014               No  \n",
       "2                      2004               No  \n",
       "3                      2012               No  \n",
       "4                      2009               No  \n",
       "...                     ...              ...  \n",
       "6141                   2013               No  \n",
       "6142                   2012               No  \n",
       "6143                   2012               No  \n",
       "6144                   2020               No  \n",
       "6145                   2017               No  \n",
       "\n",
       "[6146 rows x 13 columns]"
      ]
     },
     "execution_count": 304,
     "metadata": {},
     "output_type": "execute_result"
    }
   ],
   "source": [
    "df2=spark.read.csv(data2,header=True,inferSchema=True)\n",
    "df2.toPandas()"
   ]
  },
  {
   "cell_type": "code",
   "execution_count": 305,
   "id": "5f124442-1ad2-40dc-bf92-6c1eaa09c59f",
   "metadata": {},
   "outputs": [
    {
     "name": "stdout",
     "output_type": "stream",
     "text": [
      "root\n",
      " |-- id: integer (nullable = true)\n",
      " |-- client_id: integer (nullable = true)\n",
      " |-- card_brand: string (nullable = true)\n",
      " |-- card_type: string (nullable = true)\n",
      " |-- card_number: long (nullable = true)\n",
      " |-- expires: string (nullable = true)\n",
      " |-- cvv: integer (nullable = true)\n",
      " |-- has_chip: string (nullable = true)\n",
      " |-- num_cards_issued: integer (nullable = true)\n",
      " |-- credit_limit: string (nullable = true)\n",
      " |-- acct_open_date: string (nullable = true)\n",
      " |-- year_pin_last_changed: integer (nullable = true)\n",
      " |-- card_on_dark_web: string (nullable = true)\n",
      "\n"
     ]
    }
   ],
   "source": [
    "df2.printSchema()"
   ]
  },
  {
   "cell_type": "code",
   "execution_count": 306,
   "id": "d23c77a6-963c-46e4-833b-b135b8c956b6",
   "metadata": {},
   "outputs": [
    {
     "data": {
      "text/html": [
       "<div>\n",
       "<style scoped>\n",
       "    .dataframe tbody tr th:only-of-type {\n",
       "        vertical-align: middle;\n",
       "    }\n",
       "\n",
       "    .dataframe tbody tr th {\n",
       "        vertical-align: top;\n",
       "    }\n",
       "\n",
       "    .dataframe thead th {\n",
       "        text-align: right;\n",
       "    }\n",
       "</style>\n",
       "<table border=\"1\" class=\"dataframe\">\n",
       "  <thead>\n",
       "    <tr style=\"text-align: right;\">\n",
       "      <th></th>\n",
       "      <th>summary</th>\n",
       "      <th>id</th>\n",
       "      <th>current_age</th>\n",
       "      <th>retirement_age</th>\n",
       "      <th>birth_year</th>\n",
       "      <th>birth_month</th>\n",
       "      <th>gender</th>\n",
       "      <th>address</th>\n",
       "      <th>latitude</th>\n",
       "      <th>longitude</th>\n",
       "      <th>per_capita_income</th>\n",
       "      <th>yearly_income</th>\n",
       "      <th>total_debt</th>\n",
       "      <th>credit_score</th>\n",
       "      <th>num_credit_cards</th>\n",
       "    </tr>\n",
       "  </thead>\n",
       "  <tbody>\n",
       "    <tr>\n",
       "      <th>0</th>\n",
       "      <td>count</td>\n",
       "      <td>2000</td>\n",
       "      <td>2000</td>\n",
       "      <td>2000</td>\n",
       "      <td>2000</td>\n",
       "      <td>2000</td>\n",
       "      <td>2000</td>\n",
       "      <td>2000</td>\n",
       "      <td>2000</td>\n",
       "      <td>2000</td>\n",
       "      <td>2000</td>\n",
       "      <td>2000</td>\n",
       "      <td>2000</td>\n",
       "      <td>2000</td>\n",
       "      <td>2000</td>\n",
       "    </tr>\n",
       "    <tr>\n",
       "      <th>1</th>\n",
       "      <td>mean</td>\n",
       "      <td>999.5</td>\n",
       "      <td>45.3915</td>\n",
       "      <td>66.2375</td>\n",
       "      <td>1973.803</td>\n",
       "      <td>6.439</td>\n",
       "      <td>None</td>\n",
       "      <td>None</td>\n",
       "      <td>37.38922499999989</td>\n",
       "      <td>-91.55476499999995</td>\n",
       "      <td>23141.928</td>\n",
       "      <td>45715.882</td>\n",
       "      <td>63709.694</td>\n",
       "      <td>709.7345</td>\n",
       "      <td>3.073</td>\n",
       "    </tr>\n",
       "    <tr>\n",
       "      <th>2</th>\n",
       "      <td>stddev</td>\n",
       "      <td>577.4945887192365</td>\n",
       "      <td>18.414091537014993</td>\n",
       "      <td>3.628867328663937</td>\n",
       "      <td>18.42123399587999</td>\n",
       "      <td>3.5653379667864167</td>\n",
       "      <td>None</td>\n",
       "      <td>None</td>\n",
       "      <td>5.11432396355345</td>\n",
       "      <td>16.28329261709689</td>\n",
       "      <td>11324.13735766499</td>\n",
       "      <td>22992.61545631198</td>\n",
       "      <td>52254.45342050286</td>\n",
       "      <td>67.22194883334225</td>\n",
       "      <td>1.6373794629690674</td>\n",
       "    </tr>\n",
       "    <tr>\n",
       "      <th>3</th>\n",
       "      <td>min</td>\n",
       "      <td>0</td>\n",
       "      <td>18</td>\n",
       "      <td>50</td>\n",
       "      <td>1918</td>\n",
       "      <td>1</td>\n",
       "      <td>Female</td>\n",
       "      <td>0 Elm Street</td>\n",
       "      <td>20.88</td>\n",
       "      <td>-159.41</td>\n",
       "      <td>0</td>\n",
       "      <td>1</td>\n",
       "      <td>0</td>\n",
       "      <td>480</td>\n",
       "      <td>1</td>\n",
       "    </tr>\n",
       "    <tr>\n",
       "      <th>4</th>\n",
       "      <td>max</td>\n",
       "      <td>1999</td>\n",
       "      <td>101</td>\n",
       "      <td>79</td>\n",
       "      <td>2002</td>\n",
       "      <td>12</td>\n",
       "      <td>Male</td>\n",
       "      <td>9995 Pine Avenue</td>\n",
       "      <td>61.2</td>\n",
       "      <td>-68.67</td>\n",
       "      <td>163145</td>\n",
       "      <td>307018</td>\n",
       "      <td>516263</td>\n",
       "      <td>850</td>\n",
       "      <td>9</td>\n",
       "    </tr>\n",
       "  </tbody>\n",
       "</table>\n",
       "</div>"
      ],
      "text/plain": [
       "  summary                 id         current_age     retirement_age  \\\n",
       "0   count               2000                2000               2000   \n",
       "1    mean              999.5             45.3915            66.2375   \n",
       "2  stddev  577.4945887192365  18.414091537014993  3.628867328663937   \n",
       "3     min                  0                  18                 50   \n",
       "4     max               1999                 101                 79   \n",
       "\n",
       "          birth_year         birth_month  gender           address  \\\n",
       "0               2000                2000    2000              2000   \n",
       "1           1973.803               6.439    None              None   \n",
       "2  18.42123399587999  3.5653379667864167    None              None   \n",
       "3               1918                   1  Female      0 Elm Street   \n",
       "4               2002                  12    Male  9995 Pine Avenue   \n",
       "\n",
       "            latitude           longitude  per_capita_income  \\\n",
       "0               2000                2000               2000   \n",
       "1  37.38922499999989  -91.55476499999995          23141.928   \n",
       "2   5.11432396355345   16.28329261709689  11324.13735766499   \n",
       "3              20.88             -159.41                  0   \n",
       "4               61.2              -68.67             163145   \n",
       "\n",
       "       yearly_income         total_debt       credit_score    num_credit_cards  \n",
       "0               2000               2000               2000                2000  \n",
       "1          45715.882          63709.694           709.7345               3.073  \n",
       "2  22992.61545631198  52254.45342050286  67.22194883334225  1.6373794629690674  \n",
       "3                  1                  0                480                   1  \n",
       "4             307018             516263                850                   9  "
      ]
     },
     "execution_count": 306,
     "metadata": {},
     "output_type": "execute_result"
    }
   ],
   "source": [
    "df1.describe().toPandas()"
   ]
  },
  {
   "cell_type": "code",
   "execution_count": 307,
   "id": "e2dc87f5-c40a-4e55-910a-5c5f1f7dc4d0",
   "metadata": {},
   "outputs": [
    {
     "data": {
      "text/html": [
       "<div>\n",
       "<style scoped>\n",
       "    .dataframe tbody tr th:only-of-type {\n",
       "        vertical-align: middle;\n",
       "    }\n",
       "\n",
       "    .dataframe tbody tr th {\n",
       "        vertical-align: top;\n",
       "    }\n",
       "\n",
       "    .dataframe thead th {\n",
       "        text-align: right;\n",
       "    }\n",
       "</style>\n",
       "<table border=\"1\" class=\"dataframe\">\n",
       "  <thead>\n",
       "    <tr style=\"text-align: right;\">\n",
       "      <th></th>\n",
       "      <th>summary</th>\n",
       "      <th>id</th>\n",
       "      <th>current_age</th>\n",
       "      <th>retirement_age</th>\n",
       "      <th>birth_year</th>\n",
       "      <th>birth_month</th>\n",
       "      <th>gender</th>\n",
       "      <th>address</th>\n",
       "      <th>latitude</th>\n",
       "      <th>longitude</th>\n",
       "      <th>per_capita_income</th>\n",
       "      <th>yearly_income</th>\n",
       "      <th>total_debt</th>\n",
       "      <th>credit_score</th>\n",
       "      <th>num_credit_cards</th>\n",
       "    </tr>\n",
       "  </thead>\n",
       "  <tbody>\n",
       "    <tr>\n",
       "      <th>0</th>\n",
       "      <td>count</td>\n",
       "      <td>2000</td>\n",
       "      <td>2000</td>\n",
       "      <td>2000</td>\n",
       "      <td>2000</td>\n",
       "      <td>2000</td>\n",
       "      <td>2000</td>\n",
       "      <td>2000</td>\n",
       "      <td>2000</td>\n",
       "      <td>2000</td>\n",
       "      <td>2000</td>\n",
       "      <td>2000</td>\n",
       "      <td>2000</td>\n",
       "      <td>2000</td>\n",
       "      <td>2000</td>\n",
       "    </tr>\n",
       "    <tr>\n",
       "      <th>1</th>\n",
       "      <td>mean</td>\n",
       "      <td>999.5</td>\n",
       "      <td>45.3915</td>\n",
       "      <td>66.2375</td>\n",
       "      <td>1973.803</td>\n",
       "      <td>6.439</td>\n",
       "      <td>None</td>\n",
       "      <td>None</td>\n",
       "      <td>37.38922499999989</td>\n",
       "      <td>-91.55476499999995</td>\n",
       "      <td>23141.928</td>\n",
       "      <td>45715.882</td>\n",
       "      <td>63709.694</td>\n",
       "      <td>709.7345</td>\n",
       "      <td>3.073</td>\n",
       "    </tr>\n",
       "    <tr>\n",
       "      <th>2</th>\n",
       "      <td>stddev</td>\n",
       "      <td>577.4945887192365</td>\n",
       "      <td>18.414091537014993</td>\n",
       "      <td>3.628867328663937</td>\n",
       "      <td>18.42123399587999</td>\n",
       "      <td>3.5653379667864167</td>\n",
       "      <td>None</td>\n",
       "      <td>None</td>\n",
       "      <td>5.11432396355345</td>\n",
       "      <td>16.28329261709689</td>\n",
       "      <td>11324.13735766499</td>\n",
       "      <td>22992.61545631198</td>\n",
       "      <td>52254.45342050286</td>\n",
       "      <td>67.22194883334225</td>\n",
       "      <td>1.6373794629690674</td>\n",
       "    </tr>\n",
       "    <tr>\n",
       "      <th>3</th>\n",
       "      <td>min</td>\n",
       "      <td>0</td>\n",
       "      <td>18</td>\n",
       "      <td>50</td>\n",
       "      <td>1918</td>\n",
       "      <td>1</td>\n",
       "      <td>Female</td>\n",
       "      <td>0 Elm Street</td>\n",
       "      <td>20.88</td>\n",
       "      <td>-159.41</td>\n",
       "      <td>0</td>\n",
       "      <td>1</td>\n",
       "      <td>0</td>\n",
       "      <td>480</td>\n",
       "      <td>1</td>\n",
       "    </tr>\n",
       "    <tr>\n",
       "      <th>4</th>\n",
       "      <td>25%</td>\n",
       "      <td>499</td>\n",
       "      <td>30</td>\n",
       "      <td>65</td>\n",
       "      <td>1961</td>\n",
       "      <td>3</td>\n",
       "      <td>None</td>\n",
       "      <td>None</td>\n",
       "      <td>33.83</td>\n",
       "      <td>-97.41</td>\n",
       "      <td>16823</td>\n",
       "      <td>32817</td>\n",
       "      <td>23971</td>\n",
       "      <td>681</td>\n",
       "      <td>2</td>\n",
       "    </tr>\n",
       "    <tr>\n",
       "      <th>5</th>\n",
       "      <td>50%</td>\n",
       "      <td>999</td>\n",
       "      <td>44</td>\n",
       "      <td>66</td>\n",
       "      <td>1975</td>\n",
       "      <td>7</td>\n",
       "      <td>None</td>\n",
       "      <td>None</td>\n",
       "      <td>38.23</td>\n",
       "      <td>-86.44</td>\n",
       "      <td>20581</td>\n",
       "      <td>40744</td>\n",
       "      <td>58250</td>\n",
       "      <td>711</td>\n",
       "      <td>3</td>\n",
       "    </tr>\n",
       "    <tr>\n",
       "      <th>6</th>\n",
       "      <td>75%</td>\n",
       "      <td>1499</td>\n",
       "      <td>58</td>\n",
       "      <td>68</td>\n",
       "      <td>1989</td>\n",
       "      <td>10</td>\n",
       "      <td>None</td>\n",
       "      <td>None</td>\n",
       "      <td>41.2</td>\n",
       "      <td>-80.13</td>\n",
       "      <td>26273</td>\n",
       "      <td>52680</td>\n",
       "      <td>89056</td>\n",
       "      <td>753</td>\n",
       "      <td>4</td>\n",
       "    </tr>\n",
       "    <tr>\n",
       "      <th>7</th>\n",
       "      <td>max</td>\n",
       "      <td>1999</td>\n",
       "      <td>101</td>\n",
       "      <td>79</td>\n",
       "      <td>2002</td>\n",
       "      <td>12</td>\n",
       "      <td>Male</td>\n",
       "      <td>9995 Pine Avenue</td>\n",
       "      <td>61.2</td>\n",
       "      <td>-68.67</td>\n",
       "      <td>163145</td>\n",
       "      <td>307018</td>\n",
       "      <td>516263</td>\n",
       "      <td>850</td>\n",
       "      <td>9</td>\n",
       "    </tr>\n",
       "  </tbody>\n",
       "</table>\n",
       "</div>"
      ],
      "text/plain": [
       "  summary                 id         current_age     retirement_age  \\\n",
       "0   count               2000                2000               2000   \n",
       "1    mean              999.5             45.3915            66.2375   \n",
       "2  stddev  577.4945887192365  18.414091537014993  3.628867328663937   \n",
       "3     min                  0                  18                 50   \n",
       "4     25%                499                  30                 65   \n",
       "5     50%                999                  44                 66   \n",
       "6     75%               1499                  58                 68   \n",
       "7     max               1999                 101                 79   \n",
       "\n",
       "          birth_year         birth_month  gender           address  \\\n",
       "0               2000                2000    2000              2000   \n",
       "1           1973.803               6.439    None              None   \n",
       "2  18.42123399587999  3.5653379667864167    None              None   \n",
       "3               1918                   1  Female      0 Elm Street   \n",
       "4               1961                   3    None              None   \n",
       "5               1975                   7    None              None   \n",
       "6               1989                  10    None              None   \n",
       "7               2002                  12    Male  9995 Pine Avenue   \n",
       "\n",
       "            latitude           longitude  per_capita_income  \\\n",
       "0               2000                2000               2000   \n",
       "1  37.38922499999989  -91.55476499999995          23141.928   \n",
       "2   5.11432396355345   16.28329261709689  11324.13735766499   \n",
       "3              20.88             -159.41                  0   \n",
       "4              33.83              -97.41              16823   \n",
       "5              38.23              -86.44              20581   \n",
       "6               41.2              -80.13              26273   \n",
       "7               61.2              -68.67             163145   \n",
       "\n",
       "       yearly_income         total_debt       credit_score    num_credit_cards  \n",
       "0               2000               2000               2000                2000  \n",
       "1          45715.882          63709.694           709.7345               3.073  \n",
       "2  22992.61545631198  52254.45342050286  67.22194883334225  1.6373794629690674  \n",
       "3                  1                  0                480                   1  \n",
       "4              32817              23971                681                   2  \n",
       "5              40744              58250                711                   3  \n",
       "6              52680              89056                753                   4  \n",
       "7             307018             516263                850                   9  "
      ]
     },
     "execution_count": 307,
     "metadata": {},
     "output_type": "execute_result"
    }
   ],
   "source": [
    "df1.summary().toPandas()"
   ]
  },
  {
   "cell_type": "code",
   "execution_count": 308,
   "id": "d561a57c-ac74-4a4e-94b8-13520110e7ed",
   "metadata": {},
   "outputs": [
    {
     "data": {
      "text/plain": [
       "['id',\n",
       " 'client_id',\n",
       " 'card_brand',\n",
       " 'card_type',\n",
       " 'card_number',\n",
       " 'expires',\n",
       " 'cvv',\n",
       " 'has_chip',\n",
       " 'num_cards_issued',\n",
       " 'credit_limit',\n",
       " 'acct_open_date',\n",
       " 'year_pin_last_changed',\n",
       " 'card_on_dark_web']"
      ]
     },
     "execution_count": 308,
     "metadata": {},
     "output_type": "execute_result"
    }
   ],
   "source": [
    "df2.columns"
   ]
  },
  {
   "cell_type": "code",
   "execution_count": 309,
   "id": "c4cd9c4a-1945-4284-928f-8135c1630ff1",
   "metadata": {},
   "outputs": [
    {
     "data": {
      "text/plain": [
       "6146"
      ]
     },
     "execution_count": 309,
     "metadata": {},
     "output_type": "execute_result"
    }
   ],
   "source": [
    "df2.count()"
   ]
  },
  {
   "cell_type": "code",
   "execution_count": 310,
   "id": "93fd1185-9736-4179-add3-b2f1ba4e074f",
   "metadata": {},
   "outputs": [
    {
     "data": {
      "text/plain": [
       "DataFrame[id: int, client_id: int, card_brand: string, card_type: string, card_number: bigint, expires: string, cvv: int, has_chip: string, num_cards_issued: int, credit_limit: string, acct_open_date: string, year_pin_last_changed: int, card_on_dark_web: string]"
      ]
     },
     "execution_count": 310,
     "metadata": {},
     "output_type": "execute_result"
    }
   ],
   "source": [
    "df2.dropna()"
   ]
  },
  {
   "cell_type": "code",
   "execution_count": 311,
   "id": "146b2e4f-88d9-480c-be9a-600819bc5a2e",
   "metadata": {},
   "outputs": [
    {
     "data": {
      "text/plain": [
       "DataFrame[id: int, client_id: int, card_brand: string, card_type: string, card_number: bigint, expires: string, cvv: int, has_chip: string, num_cards_issued: int, credit_limit: string, acct_open_date: string, year_pin_last_changed: int, card_on_dark_web: string]"
      ]
     },
     "execution_count": 311,
     "metadata": {},
     "output_type": "execute_result"
    }
   ],
   "source": [
    "df2.dropDuplicates()"
   ]
  },
  {
   "cell_type": "code",
   "execution_count": 312,
   "id": "15fe185c-7beb-4976-88ce-c5cee932683e",
   "metadata": {},
   "outputs": [
    {
     "name": "stdout",
     "output_type": "stream",
     "text": [
      "root\n",
      " |-- id: integer (nullable = true)\n",
      " |-- client_id: integer (nullable = true)\n",
      " |-- card_brand: string (nullable = true)\n",
      " |-- card_type: string (nullable = true)\n",
      " |-- card_number: long (nullable = true)\n",
      " |-- expires: string (nullable = true)\n",
      " |-- cvv: integer (nullable = true)\n",
      " |-- has_chip: string (nullable = true)\n",
      " |-- num_cards_issued: integer (nullable = true)\n",
      " |-- credit_limit: string (nullable = true)\n",
      " |-- acct_open_date: string (nullable = true)\n",
      " |-- year_pin_last_changed: integer (nullable = true)\n",
      " |-- card_on_dark_web: string (nullable = true)\n",
      "\n"
     ]
    }
   ],
   "source": [
    "df2.printSchema()"
   ]
  },
  {
   "cell_type": "code",
   "execution_count": 313,
   "id": "f895da8d-a9e6-4201-a56f-85a37118d915",
   "metadata": {},
   "outputs": [
    {
     "data": {
      "text/html": [
       "<div>\n",
       "<style scoped>\n",
       "    .dataframe tbody tr th:only-of-type {\n",
       "        vertical-align: middle;\n",
       "    }\n",
       "\n",
       "    .dataframe tbody tr th {\n",
       "        vertical-align: top;\n",
       "    }\n",
       "\n",
       "    .dataframe thead th {\n",
       "        text-align: right;\n",
       "    }\n",
       "</style>\n",
       "<table border=\"1\" class=\"dataframe\">\n",
       "  <thead>\n",
       "    <tr style=\"text-align: right;\">\n",
       "      <th></th>\n",
       "      <th>id</th>\n",
       "      <th>client_id</th>\n",
       "      <th>card_brand</th>\n",
       "      <th>card_type</th>\n",
       "      <th>card_number</th>\n",
       "      <th>expires</th>\n",
       "      <th>cvv</th>\n",
       "      <th>has_chip</th>\n",
       "      <th>num_cards_issued</th>\n",
       "      <th>credit_limit</th>\n",
       "      <th>acct_open_date</th>\n",
       "      <th>year_pin_last_changed</th>\n",
       "      <th>card_on_dark_web</th>\n",
       "    </tr>\n",
       "  </thead>\n",
       "  <tbody>\n",
       "    <tr>\n",
       "      <th>0</th>\n",
       "      <td>4524</td>\n",
       "      <td>825</td>\n",
       "      <td>Visa</td>\n",
       "      <td>Debit</td>\n",
       "      <td>4344676511950444</td>\n",
       "      <td>12/2022</td>\n",
       "      <td>623</td>\n",
       "      <td>YES</td>\n",
       "      <td>2</td>\n",
       "      <td>$24295</td>\n",
       "      <td>09/2002</td>\n",
       "      <td>2008</td>\n",
       "      <td>No</td>\n",
       "    </tr>\n",
       "  </tbody>\n",
       "</table>\n",
       "</div>"
      ],
      "text/plain": [
       "     id  client_id card_brand card_type       card_number  expires  cvv  \\\n",
       "0  4524        825       Visa     Debit  4344676511950444  12/2022  623   \n",
       "\n",
       "  has_chip  num_cards_issued credit_limit acct_open_date  \\\n",
       "0      YES                 2       $24295        09/2002   \n",
       "\n",
       "   year_pin_last_changed card_on_dark_web  \n",
       "0                   2008               No  "
      ]
     },
     "execution_count": 313,
     "metadata": {},
     "output_type": "execute_result"
    }
   ],
   "source": [
    "df2.limit(1).toPandas()"
   ]
  },
  {
   "cell_type": "code",
   "execution_count": 314,
   "id": "d09d59a5-8fb5-431c-89fd-04ae2083f06c",
   "metadata": {},
   "outputs": [
    {
     "name": "stdout",
     "output_type": "stream",
     "text": [
      "+------------+\n",
      "|credit_limit|\n",
      "+------------+\n",
      "|      $24295|\n",
      "|      $21968|\n",
      "|      $46414|\n",
      "|      $12400|\n",
      "|         $28|\n",
      "+------------+\n",
      "\n"
     ]
    }
   ],
   "source": [
    "df2.select(\"credit_limit\").limit(5).show()"
   ]
  },
  {
   "cell_type": "code",
   "execution_count": 315,
   "id": "12a6e972-bcf0-4920-9036-9b28e0d40f28",
   "metadata": {},
   "outputs": [],
   "source": [
    "df2=df2.withColumn(\n",
    "    \"credit_limit\",\n",
    "    regexp_replace(col(\"credit_limit\"),\"[$]\",\"\").cast(\"int\")\n",
    ")"
   ]
  },
  {
   "cell_type": "code",
   "execution_count": 316,
   "id": "6328d893-5c80-4048-88c0-6fdbf772d1d9",
   "metadata": {},
   "outputs": [
    {
     "name": "stdout",
     "output_type": "stream",
     "text": [
      "+------------+\n",
      "|credit_limit|\n",
      "+------------+\n",
      "|       24295|\n",
      "|       21968|\n",
      "|       46414|\n",
      "|       12400|\n",
      "|          28|\n",
      "+------------+\n",
      "\n"
     ]
    }
   ],
   "source": [
    "df2.select(\"credit_limit\").limit(5).show()"
   ]
  },
  {
   "cell_type": "code",
   "execution_count": 317,
   "id": "9ade1263-794d-471c-b15e-be4e206cdd8d",
   "metadata": {},
   "outputs": [
    {
     "name": "stdout",
     "output_type": "stream",
     "text": [
      "+-------+\n",
      "|expires|\n",
      "+-------+\n",
      "|12/2022|\n",
      "|12/2020|\n",
      "|02/2024|\n",
      "|08/2024|\n",
      "|03/2009|\n",
      "+-------+\n",
      "\n"
     ]
    }
   ],
   "source": [
    "df2.select(\"expires\").limit(5).show()"
   ]
  },
  {
   "cell_type": "code",
   "execution_count": 318,
   "id": "6b9fd875-71f9-47ee-b906-520851366f58",
   "metadata": {},
   "outputs": [
    {
     "data": {
      "text/plain": [
       "StringType()"
      ]
     },
     "execution_count": 318,
     "metadata": {},
     "output_type": "execute_result"
    }
   ],
   "source": [
    "df2.schema[\"expires\"].dataType"
   ]
  },
  {
   "cell_type": "code",
   "execution_count": 319,
   "id": "8a513c18-43ac-4fe7-8c24-588e402aff88",
   "metadata": {},
   "outputs": [],
   "source": [
    "df2=df2.withColumn(\"expires\",to_date(\"expires\",\"MM/yyyy\"))"
   ]
  },
  {
   "cell_type": "code",
   "execution_count": 320,
   "id": "29f5df02-1d05-41e2-a4bf-cb73aa5f2a13",
   "metadata": {},
   "outputs": [
    {
     "name": "stdout",
     "output_type": "stream",
     "text": [
      "+----------+\n",
      "|   expires|\n",
      "+----------+\n",
      "|2022-12-01|\n",
      "|2020-12-01|\n",
      "|2024-02-01|\n",
      "|2024-08-01|\n",
      "|2009-03-01|\n",
      "+----------+\n",
      "\n"
     ]
    }
   ],
   "source": [
    "df2.select(\"expires\").limit(5).show()"
   ]
  },
  {
   "cell_type": "code",
   "execution_count": 321,
   "id": "ffb97a3f-682b-4662-bc53-21a84ba322fa",
   "metadata": {},
   "outputs": [
    {
     "data": {
      "text/plain": [
       "DateType()"
      ]
     },
     "execution_count": 321,
     "metadata": {},
     "output_type": "execute_result"
    }
   ],
   "source": [
    "df2.schema[\"expires\"].dataType"
   ]
  },
  {
   "cell_type": "code",
   "execution_count": 322,
   "id": "122dfd5b-5332-4fa2-83e3-236e269b5b3b",
   "metadata": {},
   "outputs": [],
   "source": [
    "df2=df2.withColumn(\"expires_month\",month(col(\"expires\")))"
   ]
  },
  {
   "cell_type": "code",
   "execution_count": 323,
   "id": "2d79c70b-58d8-457a-a5c1-9b1bbf475c91",
   "metadata": {},
   "outputs": [
    {
     "name": "stdout",
     "output_type": "stream",
     "text": [
      "+-------------+\n",
      "|expires_month|\n",
      "+-------------+\n",
      "|           12|\n",
      "|           12|\n",
      "|            2|\n",
      "+-------------+\n",
      "\n"
     ]
    }
   ],
   "source": [
    "df2.select(\"expires_month\").limit(3).show()"
   ]
  },
  {
   "cell_type": "code",
   "execution_count": 324,
   "id": "aac1886b-78b6-48c1-a967-74237392c2a2",
   "metadata": {},
   "outputs": [],
   "source": [
    "df2=df2.withColumn(\"expires_year\",year(col('expires')))"
   ]
  },
  {
   "cell_type": "code",
   "execution_count": 325,
   "id": "ba0b3f71-8746-40b7-88a3-6b41119e0829",
   "metadata": {},
   "outputs": [
    {
     "name": "stdout",
     "output_type": "stream",
     "text": [
      "+------------+\n",
      "|expires_year|\n",
      "+------------+\n",
      "|        2022|\n",
      "|        2020|\n",
      "|        2024|\n",
      "+------------+\n",
      "\n"
     ]
    }
   ],
   "source": [
    "df2.select(\"expires_year\").limit(3).show()"
   ]
  },
  {
   "cell_type": "code",
   "execution_count": 326,
   "id": "7dd20b27-a961-4a5d-ba5b-2e132004090e",
   "metadata": {},
   "outputs": [
    {
     "data": {
      "text/plain": [
       "StringType()"
      ]
     },
     "execution_count": 326,
     "metadata": {},
     "output_type": "execute_result"
    }
   ],
   "source": [
    "df2.schema[\"acct_open_date\"].dataType"
   ]
  },
  {
   "cell_type": "code",
   "execution_count": 327,
   "id": "7c53e9e8-fbd7-4c6b-9a39-0a177727a125",
   "metadata": {},
   "outputs": [
    {
     "name": "stdout",
     "output_type": "stream",
     "text": [
      "+--------------+\n",
      "|acct_open_date|\n",
      "+--------------+\n",
      "|       09/2002|\n",
      "|       04/2014|\n",
      "|       07/2003|\n",
      "|       01/2003|\n",
      "|       09/2008|\n",
      "+--------------+\n",
      "\n"
     ]
    }
   ],
   "source": [
    "df2.select(\"acct_open_date\").limit(5).show()"
   ]
  },
  {
   "cell_type": "code",
   "execution_count": 328,
   "id": "844fa79d-db9e-4069-a4f6-43907a62b8d1",
   "metadata": {},
   "outputs": [],
   "source": [
    "df2=df2.withColumn(\"acct_open_date\",to_date(\"acct_open_date\",\"MM/yyyy\"))"
   ]
  },
  {
   "cell_type": "code",
   "execution_count": 329,
   "id": "92ec1627-1e2f-4598-8b07-aa8ecbf11715",
   "metadata": {},
   "outputs": [
    {
     "data": {
      "text/plain": [
       "DateType()"
      ]
     },
     "execution_count": 329,
     "metadata": {},
     "output_type": "execute_result"
    }
   ],
   "source": [
    "df2.schema[\"acct_open_date\"].dataType"
   ]
  },
  {
   "cell_type": "code",
   "execution_count": 330,
   "id": "4503637e-d3e0-400f-86c5-802d8dc134b1",
   "metadata": {},
   "outputs": [
    {
     "name": "stdout",
     "output_type": "stream",
     "text": [
      "+--------------+\n",
      "|acct_open_date|\n",
      "+--------------+\n",
      "|    2002-09-01|\n",
      "|    2014-04-01|\n",
      "|    2003-07-01|\n",
      "|    2003-01-01|\n",
      "|    2008-09-01|\n",
      "+--------------+\n",
      "\n"
     ]
    }
   ],
   "source": [
    "df2.select(\"acct_open_date\").limit(5).show()"
   ]
  },
  {
   "cell_type": "code",
   "execution_count": 331,
   "id": "1863a79b-bcd6-4972-82f0-7a95aa7862bf",
   "metadata": {},
   "outputs": [
    {
     "name": "stdout",
     "output_type": "stream",
     "text": [
      "root\n",
      " |-- id: integer (nullable = true)\n",
      " |-- current_age: integer (nullable = true)\n",
      " |-- retirement_age: integer (nullable = true)\n",
      " |-- birth_year: integer (nullable = true)\n",
      " |-- birth_month: integer (nullable = true)\n",
      " |-- gender: string (nullable = true)\n",
      " |-- address: string (nullable = true)\n",
      " |-- latitude: double (nullable = true)\n",
      " |-- longitude: double (nullable = true)\n",
      " |-- per_capita_income: integer (nullable = true)\n",
      " |-- yearly_income: integer (nullable = true)\n",
      " |-- total_debt: integer (nullable = true)\n",
      " |-- credit_score: integer (nullable = true)\n",
      " |-- num_credit_cards: integer (nullable = true)\n",
      "\n"
     ]
    }
   ],
   "source": [
    "df1.printSchema()"
   ]
  },
  {
   "cell_type": "code",
   "execution_count": 332,
   "id": "db21f92f-6938-4c66-9a7b-0bb577bbbfc1",
   "metadata": {},
   "outputs": [
    {
     "name": "stdout",
     "output_type": "stream",
     "text": [
      "root\n",
      " |-- id: integer (nullable = true)\n",
      " |-- client_id: integer (nullable = true)\n",
      " |-- card_brand: string (nullable = true)\n",
      " |-- card_type: string (nullable = true)\n",
      " |-- card_number: long (nullable = true)\n",
      " |-- expires: date (nullable = true)\n",
      " |-- cvv: integer (nullable = true)\n",
      " |-- has_chip: string (nullable = true)\n",
      " |-- num_cards_issued: integer (nullable = true)\n",
      " |-- credit_limit: integer (nullable = true)\n",
      " |-- acct_open_date: date (nullable = true)\n",
      " |-- year_pin_last_changed: integer (nullable = true)\n",
      " |-- card_on_dark_web: string (nullable = true)\n",
      " |-- expires_month: integer (nullable = true)\n",
      " |-- expires_year: integer (nullable = true)\n",
      "\n"
     ]
    }
   ],
   "source": [
    "df2.printSchema()"
   ]
  },
  {
   "cell_type": "code",
   "execution_count": 333,
   "id": "5e8b4c71-5011-4edf-a62b-2a91b1bd3d11",
   "metadata": {},
   "outputs": [],
   "source": [
    "df1_cleaned=df1\n",
    "df2_cleaned=df2"
   ]
  },
  {
   "cell_type": "code",
   "execution_count": 334,
   "id": "4ccd5001-2a3b-436a-b4d2-6e762a7f8c9d",
   "metadata": {},
   "outputs": [
    {
     "name": "stdout",
     "output_type": "stream",
     "text": [
      "Caching completed. Final row count: 2000\n",
      "✅ Cleaned data saved successfully to: D:/OneDrive/Venkat.My_projects/BIG_Data_TAST_1/Finance_User_Cleaned_Data\n",
      "Created CSV files: ['part-00000-23fe2eda-2c1a-4952-a6a1-1d8b05ef3415-c000.csv']\n"
     ]
    }
   ],
   "source": [
    "# Output path for cleaned data\n",
    "output_path = \"D:/OneDrive/Venkat.My_projects/BIG_Data_TAST_1/Finance_User_Cleaned_Data\"\n",
    "\n",
    "try:\n",
    "    # Create output directory\n",
    "    os.makedirs(output_path, exist_ok=True)\n",
    "    \n",
    "    # Cache the cleaned dataframe\n",
    "    df1_cached = df1_cleaned.cache()\n",
    "    final_count = df1_cached.count()\n",
    "    print(f\"Caching completed. Final row count: {final_count}\")\n",
    "    \n",
    "    # Save as CSV\n",
    "    df1_cached.coalesce(1).write.mode(\"overwrite\") \\\n",
    "        .option(\"header\", True) \\\n",
    "        .csv(output_path)\n",
    "    \n",
    "    print(f\"✅ Cleaned data saved successfully to: {output_path}\")\n",
    "    \n",
    "    # List created files\n",
    "    output_files = os.listdir(output_path)\n",
    "    csv_files = [f for f in output_files if f.endswith('.csv')]\n",
    "    print(f\"Created CSV files: {csv_files}\")\n",
    "    \n",
    "except Exception as e:\n",
    "    print(f\"❌ Error saving data: {e}\")"
   ]
  },
  {
   "cell_type": "code",
   "execution_count": 335,
   "id": "ed71b816-a889-4996-babc-d097ceed64a4",
   "metadata": {},
   "outputs": [
    {
     "name": "stdout",
     "output_type": "stream",
     "text": [
      "Caching completed. Final row count: 2000\n",
      "✅ Cleaned data saved successfully to: D:/OneDrive/Venkat.My_projects/BIG_Data_TAST_1/Finance_Card_Cleaned_Data\n",
      "Created CSV files: ['part-00000-26ec13a8-54f0-46c9-9ba8-6939af226d31-c000.csv']\n"
     ]
    }
   ],
   "source": [
    "# Output path for cleaned data\n",
    "output_path = \"D:/OneDrive/Venkat.My_projects/BIG_Data_TAST_1/Finance_Card_Cleaned_Data\"\n",
    "\n",
    "try:\n",
    "    # Create output directory\n",
    "    os.makedirs(output_path, exist_ok=True)\n",
    "    \n",
    "    # Cache the cleaned dataframe\n",
    "    df2_cached = df2_cleaned.cache()\n",
    "    final_count = df1_cached.count()\n",
    "    print(f\"Caching completed. Final row count: {final_count}\")\n",
    "    \n",
    "    # Save as CSV\n",
    "    df2_cached.coalesce(1).write.mode(\"overwrite\") \\\n",
    "        .option(\"header\", True) \\\n",
    "        .csv(output_path)\n",
    "    \n",
    "    print(f\"✅ Cleaned data saved successfully to: {output_path}\")\n",
    "    \n",
    "    # List created files\n",
    "    output_files = os.listdir(output_path)\n",
    "    csv_files = [f for f in output_files if f.endswith('.csv')]\n",
    "    print(f\"Created CSV files: {csv_files}\")\n",
    "    \n",
    "except Exception as e:\n",
    "    print(f\"❌ Error saving data: {e}\")"
   ]
  },
  {
   "cell_type": "code",
   "execution_count": null,
   "id": "5a91d060-abae-417a-a4e2-ebd43425365f",
   "metadata": {},
   "outputs": [],
   "source": []
  }
 ],
 "metadata": {
  "kernelspec": {
   "display_name": "Python 3 (ipykernel)",
   "language": "python",
   "name": "python3"
  },
  "language_info": {
   "codemirror_mode": {
    "name": "ipython",
    "version": 3
   },
   "file_extension": ".py",
   "mimetype": "text/x-python",
   "name": "python",
   "nbconvert_exporter": "python",
   "pygments_lexer": "ipython3",
   "version": "3.12.7"
  }
 },
 "nbformat": 4,
 "nbformat_minor": 5
}
